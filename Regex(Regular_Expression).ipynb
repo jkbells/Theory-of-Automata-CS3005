{
  "nbformat": 4,
  "nbformat_minor": 0,
  "metadata": {
    "colab": {
      "name": "Regex(Regular-Expression).ipynb",
      "provenance": [],
      "authorship_tag": "ABX9TyPtoI/qSmIqCh4TgfMmFYAX",
      "include_colab_link": true
    },
    "kernelspec": {
      "name": "python3",
      "display_name": "Python 3"
    },
    "language_info": {
      "name": "python"
    }
  },
  "cells": [
    {
      "cell_type": "markdown",
      "metadata": {
        "id": "view-in-github",
        "colab_type": "text"
      },
      "source": [
        "<a href=\"https://colab.research.google.com/github/jkbells/Theory-of-Automata-CS3005/blob/main/Regex(Regular_Expression).ipynb\" target=\"_parent\"><img src=\"https://colab.research.google.com/assets/colab-badge.svg\" alt=\"Open In Colab\"/></a>"
      ]
    },
    {
      "cell_type": "markdown",
      "source": [
        "# **Regular Expression**\n",
        "\n",
        "Identity the pattern."
      ],
      "metadata": {
        "id": "kRYRzco7CiX_"
      }
    },
    {
      "cell_type": "code",
      "source": [
        "# .    - Any Character Except New"
      ],
      "metadata": {
        "id": "OcMxYyV4ChuG"
      },
      "execution_count": 1,
      "outputs": []
    },
    {
      "cell_type": "code",
      "execution_count": 6,
      "metadata": {
        "id": "hemUp8_w_Urp"
      },
      "outputs": [],
      "source": [
        "# /d    - Digit (0 - 9)"
      ]
    },
    {
      "cell_type": "code",
      "source": [
        "# /D     - Not a Digit( 0 - 9)"
      ],
      "metadata": {
        "id": "ym8i4wn3C00w"
      },
      "execution_count": 7,
      "outputs": []
    },
    {
      "cell_type": "code",
      "source": [
        "# /w      - Word Character {a-z . A-Z, 0-9,  }"
      ],
      "metadata": {
        "id": "xCUGch4rC5J8"
      },
      "execution_count": 8,
      "outputs": []
    },
    {
      "cell_type": "code",
      "source": [
        "# /w      - Not a Word Character"
      ],
      "metadata": {
        "id": "INA1c18gDC-i"
      },
      "execution_count": 9,
      "outputs": []
    },
    {
      "cell_type": "code",
      "source": [
        "# /s      - Whitespace (space , tab , newline)"
      ],
      "metadata": {
        "id": "uBX1NnpSDHHm"
      },
      "execution_count": 10,
      "outputs": []
    },
    {
      "cell_type": "code",
      "source": [
        "# /S       - Not Whitespace (space , tab , newline)"
      ],
      "metadata": {
        "id": "EAazRTjhDULZ"
      },
      "execution_count": 11,
      "outputs": []
    },
    {
      "cell_type": "code",
      "source": [
        "# /b       - Word Boundary"
      ],
      "metadata": {
        "id": "rIeavlO3DZ0s"
      },
      "execution_count": 12,
      "outputs": []
    },
    {
      "cell_type": "code",
      "source": [
        "# /B        - Not a Word Boundary"
      ],
      "metadata": {
        "id": "DK0-NrbUDdq5"
      },
      "execution_count": 13,
      "outputs": []
    },
    {
      "cell_type": "code",
      "source": [
        "# ^         -  Beginning of a String"
      ],
      "metadata": {
        "id": "CaHNObjhDgjB"
      },
      "execution_count": 14,
      "outputs": []
    },
    {
      "cell_type": "code",
      "source": [
        "# $           - End of a String"
      ],
      "metadata": {
        "id": "zf5YsxjADkU9"
      },
      "execution_count": 15,
      "outputs": []
    },
    {
      "cell_type": "code",
      "source": [
        "# []         - Matches Characters in brackets"
      ],
      "metadata": {
        "id": "3RDhfYW3DpaY"
      },
      "execution_count": 16,
      "outputs": []
    },
    {
      "cell_type": "code",
      "source": [
        "# [^]        -Matches Characters NOT in brackets"
      ],
      "metadata": {
        "id": "K_xomICxDthu"
      },
      "execution_count": 17,
      "outputs": []
    },
    {
      "cell_type": "code",
      "source": [
        "# |            - Either Or"
      ],
      "metadata": {
        "id": "_ECoRd81DztW"
      },
      "execution_count": 18,
      "outputs": []
    },
    {
      "cell_type": "code",
      "source": [
        "# ( )          - Group\n"
      ],
      "metadata": {
        "id": "Jl7zwWIaD2qc"
      },
      "execution_count": 19,
      "outputs": []
    },
    {
      "cell_type": "markdown",
      "source": [
        "# **Quantifiers**"
      ],
      "metadata": {
        "id": "HQfVhyz3D8I3"
      }
    },
    {
      "cell_type": "code",
      "source": [
        "# *   - 0 or More"
      ],
      "metadata": {
        "id": "5MCSBchhD7UP"
      },
      "execution_count": 20,
      "outputs": []
    },
    {
      "cell_type": "code",
      "source": [
        "# +    - 1 or More"
      ],
      "metadata": {
        "id": "IwPZTw5BELm2"
      },
      "execution_count": 21,
      "outputs": []
    },
    {
      "cell_type": "code",
      "source": [
        "#  ?      - 0 or One"
      ],
      "metadata": {
        "id": "WgGdb9TrENWi"
      },
      "execution_count": 22,
      "outputs": []
    },
    {
      "cell_type": "code",
      "source": [
        "# {N}        - Exact Number"
      ],
      "metadata": {
        "id": "dQRJzFOhEPyJ"
      },
      "execution_count": 23,
      "outputs": []
    },
    {
      "cell_type": "code",
      "source": [
        "# {N,M}          - min to max"
      ],
      "metadata": {
        "id": "euGW1CIAETLI"
      },
      "execution_count": 24,
      "outputs": []
    },
    {
      "cell_type": "markdown",
      "source": [
        "# **Python Regex**"
      ],
      "metadata": {
        "id": "FmcaCCk1EWUe"
      }
    },
    {
      "cell_type": "code",
      "source": [
        "import re         # regular expression"
      ],
      "metadata": {
        "id": "JSY1LnBSEVib"
      },
      "execution_count": 25,
      "outputs": []
    },
    {
      "cell_type": "code",
      "source": [
        "string = '''abcdefghijklmnopqrstuvwxyz\n",
        "ABCDEFGHIJKLMNOPQRSTUVWXYZ\n",
        "1234567890\n",
        "bootcampABCD\n",
        "Ha Haha\n",
        "\n",
        "MetaCharacter (Need to escaped)\n",
        "\n",
        ".[{()\\^$|?*+\n",
        "\n",
        "coreyms.com\n",
        "Marks48@gmail.com\n",
        "Buff47@hotmail.com\n",
        "Linux00@my-work.net\n",
        "\n",
        "\n",
        "321-555-4321\n",
        "123.555.1234\n",
        "Mr Iron\n",
        "Mr. Schafar\n",
        "Mr Bhooky\n",
        "Dr ABC\n",
        "Mrs. Xyz\n",
        "Mr Ab\n",
        "'''"
      ],
      "metadata": {
        "id": "2nswdiZFEczG"
      },
      "execution_count": 26,
      "outputs": []
    },
    {
      "cell_type": "markdown",
      "source": [
        "# *Find Any char from String*"
      ],
      "metadata": {
        "id": "C1Tedbw3EsLO"
      }
    },
    {
      "cell_type": "code",
      "source": [
        "pattern = r'.'\n",
        "# username_pattern = r'(M|D)[a-z]{1,3}\\.?\\s[A-Z][a-z]+'\n",
        "pattern = re.compile(pattern)\n",
        "\n",
        "matches = pattern.finditer(string)\n",
        "for match in matches:\n",
        "  print(match)"
      ],
      "metadata": {
        "colab": {
          "base_uri": "https://localhost:8080/"
        },
        "id": "ZKfgB1xkEqbF",
        "outputId": "e414a068-da55-4603-a789-892ededd0d6c"
      },
      "execution_count": 27,
      "outputs": [
        {
          "output_type": "stream",
          "name": "stdout",
          "text": [
            "<re.Match object; span=(0, 1), match='a'>\n",
            "<re.Match object; span=(1, 2), match='b'>\n",
            "<re.Match object; span=(2, 3), match='c'>\n",
            "<re.Match object; span=(3, 4), match='d'>\n",
            "<re.Match object; span=(4, 5), match='e'>\n",
            "<re.Match object; span=(5, 6), match='f'>\n",
            "<re.Match object; span=(6, 7), match='g'>\n",
            "<re.Match object; span=(7, 8), match='h'>\n",
            "<re.Match object; span=(8, 9), match='i'>\n",
            "<re.Match object; span=(9, 10), match='j'>\n",
            "<re.Match object; span=(10, 11), match='k'>\n",
            "<re.Match object; span=(11, 12), match='l'>\n",
            "<re.Match object; span=(12, 13), match='m'>\n",
            "<re.Match object; span=(13, 14), match='n'>\n",
            "<re.Match object; span=(14, 15), match='o'>\n",
            "<re.Match object; span=(15, 16), match='p'>\n",
            "<re.Match object; span=(16, 17), match='q'>\n",
            "<re.Match object; span=(17, 18), match='r'>\n",
            "<re.Match object; span=(18, 19), match='s'>\n",
            "<re.Match object; span=(19, 20), match='t'>\n",
            "<re.Match object; span=(20, 21), match='u'>\n",
            "<re.Match object; span=(21, 22), match='v'>\n",
            "<re.Match object; span=(22, 23), match='w'>\n",
            "<re.Match object; span=(23, 24), match='x'>\n",
            "<re.Match object; span=(24, 25), match='y'>\n",
            "<re.Match object; span=(25, 26), match='z'>\n",
            "<re.Match object; span=(27, 28), match='A'>\n",
            "<re.Match object; span=(28, 29), match='B'>\n",
            "<re.Match object; span=(29, 30), match='C'>\n",
            "<re.Match object; span=(30, 31), match='D'>\n",
            "<re.Match object; span=(31, 32), match='E'>\n",
            "<re.Match object; span=(32, 33), match='F'>\n",
            "<re.Match object; span=(33, 34), match='G'>\n",
            "<re.Match object; span=(34, 35), match='H'>\n",
            "<re.Match object; span=(35, 36), match='I'>\n",
            "<re.Match object; span=(36, 37), match='J'>\n",
            "<re.Match object; span=(37, 38), match='K'>\n",
            "<re.Match object; span=(38, 39), match='L'>\n",
            "<re.Match object; span=(39, 40), match='M'>\n",
            "<re.Match object; span=(40, 41), match='N'>\n",
            "<re.Match object; span=(41, 42), match='O'>\n",
            "<re.Match object; span=(42, 43), match='P'>\n",
            "<re.Match object; span=(43, 44), match='Q'>\n",
            "<re.Match object; span=(44, 45), match='R'>\n",
            "<re.Match object; span=(45, 46), match='S'>\n",
            "<re.Match object; span=(46, 47), match='T'>\n",
            "<re.Match object; span=(47, 48), match='U'>\n",
            "<re.Match object; span=(48, 49), match='V'>\n",
            "<re.Match object; span=(49, 50), match='W'>\n",
            "<re.Match object; span=(50, 51), match='X'>\n",
            "<re.Match object; span=(51, 52), match='Y'>\n",
            "<re.Match object; span=(52, 53), match='Z'>\n",
            "<re.Match object; span=(54, 55), match='1'>\n",
            "<re.Match object; span=(55, 56), match='2'>\n",
            "<re.Match object; span=(56, 57), match='3'>\n",
            "<re.Match object; span=(57, 58), match='4'>\n",
            "<re.Match object; span=(58, 59), match='5'>\n",
            "<re.Match object; span=(59, 60), match='6'>\n",
            "<re.Match object; span=(60, 61), match='7'>\n",
            "<re.Match object; span=(61, 62), match='8'>\n",
            "<re.Match object; span=(62, 63), match='9'>\n",
            "<re.Match object; span=(63, 64), match='0'>\n",
            "<re.Match object; span=(65, 66), match='b'>\n",
            "<re.Match object; span=(66, 67), match='o'>\n",
            "<re.Match object; span=(67, 68), match='o'>\n",
            "<re.Match object; span=(68, 69), match='t'>\n",
            "<re.Match object; span=(69, 70), match='c'>\n",
            "<re.Match object; span=(70, 71), match='a'>\n",
            "<re.Match object; span=(71, 72), match='m'>\n",
            "<re.Match object; span=(72, 73), match='p'>\n",
            "<re.Match object; span=(73, 74), match='A'>\n",
            "<re.Match object; span=(74, 75), match='B'>\n",
            "<re.Match object; span=(75, 76), match='C'>\n",
            "<re.Match object; span=(76, 77), match='D'>\n",
            "<re.Match object; span=(78, 79), match='H'>\n",
            "<re.Match object; span=(79, 80), match='a'>\n",
            "<re.Match object; span=(80, 81), match=' '>\n",
            "<re.Match object; span=(81, 82), match='H'>\n",
            "<re.Match object; span=(82, 83), match='a'>\n",
            "<re.Match object; span=(83, 84), match='h'>\n",
            "<re.Match object; span=(84, 85), match='a'>\n",
            "<re.Match object; span=(87, 88), match='M'>\n",
            "<re.Match object; span=(88, 89), match='e'>\n",
            "<re.Match object; span=(89, 90), match='t'>\n",
            "<re.Match object; span=(90, 91), match='a'>\n",
            "<re.Match object; span=(91, 92), match='C'>\n",
            "<re.Match object; span=(92, 93), match='h'>\n",
            "<re.Match object; span=(93, 94), match='a'>\n",
            "<re.Match object; span=(94, 95), match='r'>\n",
            "<re.Match object; span=(95, 96), match='a'>\n",
            "<re.Match object; span=(96, 97), match='c'>\n",
            "<re.Match object; span=(97, 98), match='t'>\n",
            "<re.Match object; span=(98, 99), match='e'>\n",
            "<re.Match object; span=(99, 100), match='r'>\n",
            "<re.Match object; span=(100, 101), match=' '>\n",
            "<re.Match object; span=(101, 102), match='('>\n",
            "<re.Match object; span=(102, 103), match='N'>\n",
            "<re.Match object; span=(103, 104), match='e'>\n",
            "<re.Match object; span=(104, 105), match='e'>\n",
            "<re.Match object; span=(105, 106), match='d'>\n",
            "<re.Match object; span=(106, 107), match=' '>\n",
            "<re.Match object; span=(107, 108), match='t'>\n",
            "<re.Match object; span=(108, 109), match='o'>\n",
            "<re.Match object; span=(109, 110), match=' '>\n",
            "<re.Match object; span=(110, 111), match='e'>\n",
            "<re.Match object; span=(111, 112), match='s'>\n",
            "<re.Match object; span=(112, 113), match='c'>\n",
            "<re.Match object; span=(113, 114), match='a'>\n",
            "<re.Match object; span=(114, 115), match='p'>\n",
            "<re.Match object; span=(115, 116), match='e'>\n",
            "<re.Match object; span=(116, 117), match='d'>\n",
            "<re.Match object; span=(117, 118), match=')'>\n",
            "<re.Match object; span=(120, 121), match='.'>\n",
            "<re.Match object; span=(121, 122), match='['>\n",
            "<re.Match object; span=(122, 123), match='{'>\n",
            "<re.Match object; span=(123, 124), match='('>\n",
            "<re.Match object; span=(124, 125), match=')'>\n",
            "<re.Match object; span=(125, 126), match='\\\\'>\n",
            "<re.Match object; span=(126, 127), match='^'>\n",
            "<re.Match object; span=(127, 128), match='$'>\n",
            "<re.Match object; span=(128, 129), match='|'>\n",
            "<re.Match object; span=(129, 130), match='?'>\n",
            "<re.Match object; span=(130, 131), match='*'>\n",
            "<re.Match object; span=(131, 132), match='+'>\n",
            "<re.Match object; span=(134, 135), match='c'>\n",
            "<re.Match object; span=(135, 136), match='o'>\n",
            "<re.Match object; span=(136, 137), match='r'>\n",
            "<re.Match object; span=(137, 138), match='e'>\n",
            "<re.Match object; span=(138, 139), match='y'>\n",
            "<re.Match object; span=(139, 140), match='m'>\n",
            "<re.Match object; span=(140, 141), match='s'>\n",
            "<re.Match object; span=(141, 142), match='.'>\n",
            "<re.Match object; span=(142, 143), match='c'>\n",
            "<re.Match object; span=(143, 144), match='o'>\n",
            "<re.Match object; span=(144, 145), match='m'>\n",
            "<re.Match object; span=(146, 147), match='M'>\n",
            "<re.Match object; span=(147, 148), match='a'>\n",
            "<re.Match object; span=(148, 149), match='r'>\n",
            "<re.Match object; span=(149, 150), match='k'>\n",
            "<re.Match object; span=(150, 151), match='s'>\n",
            "<re.Match object; span=(151, 152), match='4'>\n",
            "<re.Match object; span=(152, 153), match='8'>\n",
            "<re.Match object; span=(153, 154), match='@'>\n",
            "<re.Match object; span=(154, 155), match='g'>\n",
            "<re.Match object; span=(155, 156), match='m'>\n",
            "<re.Match object; span=(156, 157), match='a'>\n",
            "<re.Match object; span=(157, 158), match='i'>\n",
            "<re.Match object; span=(158, 159), match='l'>\n",
            "<re.Match object; span=(159, 160), match='.'>\n",
            "<re.Match object; span=(160, 161), match='c'>\n",
            "<re.Match object; span=(161, 162), match='o'>\n",
            "<re.Match object; span=(162, 163), match='m'>\n",
            "<re.Match object; span=(164, 165), match='B'>\n",
            "<re.Match object; span=(165, 166), match='u'>\n",
            "<re.Match object; span=(166, 167), match='f'>\n",
            "<re.Match object; span=(167, 168), match='f'>\n",
            "<re.Match object; span=(168, 169), match='4'>\n",
            "<re.Match object; span=(169, 170), match='7'>\n",
            "<re.Match object; span=(170, 171), match='@'>\n",
            "<re.Match object; span=(171, 172), match='h'>\n",
            "<re.Match object; span=(172, 173), match='o'>\n",
            "<re.Match object; span=(173, 174), match='t'>\n",
            "<re.Match object; span=(174, 175), match='m'>\n",
            "<re.Match object; span=(175, 176), match='a'>\n",
            "<re.Match object; span=(176, 177), match='i'>\n",
            "<re.Match object; span=(177, 178), match='l'>\n",
            "<re.Match object; span=(178, 179), match='.'>\n",
            "<re.Match object; span=(179, 180), match='c'>\n",
            "<re.Match object; span=(180, 181), match='o'>\n",
            "<re.Match object; span=(181, 182), match='m'>\n",
            "<re.Match object; span=(183, 184), match='L'>\n",
            "<re.Match object; span=(184, 185), match='i'>\n",
            "<re.Match object; span=(185, 186), match='n'>\n",
            "<re.Match object; span=(186, 187), match='u'>\n",
            "<re.Match object; span=(187, 188), match='x'>\n",
            "<re.Match object; span=(188, 189), match='0'>\n",
            "<re.Match object; span=(189, 190), match='0'>\n",
            "<re.Match object; span=(190, 191), match='@'>\n",
            "<re.Match object; span=(191, 192), match='m'>\n",
            "<re.Match object; span=(192, 193), match='y'>\n",
            "<re.Match object; span=(193, 194), match='-'>\n",
            "<re.Match object; span=(194, 195), match='w'>\n",
            "<re.Match object; span=(195, 196), match='o'>\n",
            "<re.Match object; span=(196, 197), match='r'>\n",
            "<re.Match object; span=(197, 198), match='k'>\n",
            "<re.Match object; span=(198, 199), match='.'>\n",
            "<re.Match object; span=(199, 200), match='n'>\n",
            "<re.Match object; span=(200, 201), match='e'>\n",
            "<re.Match object; span=(201, 202), match='t'>\n",
            "<re.Match object; span=(205, 206), match='3'>\n",
            "<re.Match object; span=(206, 207), match='2'>\n",
            "<re.Match object; span=(207, 208), match='1'>\n",
            "<re.Match object; span=(208, 209), match='-'>\n",
            "<re.Match object; span=(209, 210), match='5'>\n",
            "<re.Match object; span=(210, 211), match='5'>\n",
            "<re.Match object; span=(211, 212), match='5'>\n",
            "<re.Match object; span=(212, 213), match='-'>\n",
            "<re.Match object; span=(213, 214), match='4'>\n",
            "<re.Match object; span=(214, 215), match='3'>\n",
            "<re.Match object; span=(215, 216), match='2'>\n",
            "<re.Match object; span=(216, 217), match='1'>\n",
            "<re.Match object; span=(218, 219), match='1'>\n",
            "<re.Match object; span=(219, 220), match='2'>\n",
            "<re.Match object; span=(220, 221), match='3'>\n",
            "<re.Match object; span=(221, 222), match='.'>\n",
            "<re.Match object; span=(222, 223), match='5'>\n",
            "<re.Match object; span=(223, 224), match='5'>\n",
            "<re.Match object; span=(224, 225), match='5'>\n",
            "<re.Match object; span=(225, 226), match='.'>\n",
            "<re.Match object; span=(226, 227), match='1'>\n",
            "<re.Match object; span=(227, 228), match='2'>\n",
            "<re.Match object; span=(228, 229), match='3'>\n",
            "<re.Match object; span=(229, 230), match='4'>\n",
            "<re.Match object; span=(231, 232), match='M'>\n",
            "<re.Match object; span=(232, 233), match='r'>\n",
            "<re.Match object; span=(233, 234), match=' '>\n",
            "<re.Match object; span=(234, 235), match='I'>\n",
            "<re.Match object; span=(235, 236), match='r'>\n",
            "<re.Match object; span=(236, 237), match='o'>\n",
            "<re.Match object; span=(237, 238), match='n'>\n",
            "<re.Match object; span=(239, 240), match='M'>\n",
            "<re.Match object; span=(240, 241), match='r'>\n",
            "<re.Match object; span=(241, 242), match='.'>\n",
            "<re.Match object; span=(242, 243), match=' '>\n",
            "<re.Match object; span=(243, 244), match='S'>\n",
            "<re.Match object; span=(244, 245), match='c'>\n",
            "<re.Match object; span=(245, 246), match='h'>\n",
            "<re.Match object; span=(246, 247), match='a'>\n",
            "<re.Match object; span=(247, 248), match='f'>\n",
            "<re.Match object; span=(248, 249), match='a'>\n",
            "<re.Match object; span=(249, 250), match='r'>\n",
            "<re.Match object; span=(251, 252), match='M'>\n",
            "<re.Match object; span=(252, 253), match='r'>\n",
            "<re.Match object; span=(253, 254), match=' '>\n",
            "<re.Match object; span=(254, 255), match='B'>\n",
            "<re.Match object; span=(255, 256), match='h'>\n",
            "<re.Match object; span=(256, 257), match='o'>\n",
            "<re.Match object; span=(257, 258), match='o'>\n",
            "<re.Match object; span=(258, 259), match='k'>\n",
            "<re.Match object; span=(259, 260), match='y'>\n",
            "<re.Match object; span=(261, 262), match='D'>\n",
            "<re.Match object; span=(262, 263), match='r'>\n",
            "<re.Match object; span=(263, 264), match=' '>\n",
            "<re.Match object; span=(264, 265), match='A'>\n",
            "<re.Match object; span=(265, 266), match='B'>\n",
            "<re.Match object; span=(266, 267), match='C'>\n",
            "<re.Match object; span=(268, 269), match='M'>\n",
            "<re.Match object; span=(269, 270), match='r'>\n",
            "<re.Match object; span=(270, 271), match='s'>\n",
            "<re.Match object; span=(271, 272), match='.'>\n",
            "<re.Match object; span=(272, 273), match=' '>\n",
            "<re.Match object; span=(273, 274), match='X'>\n",
            "<re.Match object; span=(274, 275), match='y'>\n",
            "<re.Match object; span=(275, 276), match='z'>\n",
            "<re.Match object; span=(277, 278), match='M'>\n",
            "<re.Match object; span=(278, 279), match='r'>\n",
            "<re.Match object; span=(279, 280), match=' '>\n",
            "<re.Match object; span=(280, 281), match='A'>\n",
            "<re.Match object; span=(281, 282), match='b'>\n"
          ]
        }
      ]
    },
    {
      "cell_type": "code",
      "source": [
        "pattern = r'\\W'\n",
        "# username_pattern = r'(M|D)[a-z]{1,3}\\.?\\s[A-Z][a-z]+'\n",
        "pattern = re.compile(pattern)\n",
        "\n",
        "matches = pattern.finditer(string)\n",
        "for match in matches:\n",
        "  print(match)"
      ],
      "metadata": {
        "colab": {
          "base_uri": "https://localhost:8080/"
        },
        "id": "K0hGlMnAFQvf",
        "outputId": "ffa6d396-6344-42f2-a7a5-21a3b4f3e68d"
      },
      "execution_count": 28,
      "outputs": [
        {
          "output_type": "stream",
          "name": "stdout",
          "text": [
            "<re.Match object; span=(26, 27), match='\\n'>\n",
            "<re.Match object; span=(53, 54), match='\\n'>\n",
            "<re.Match object; span=(64, 65), match='\\n'>\n",
            "<re.Match object; span=(77, 78), match='\\n'>\n",
            "<re.Match object; span=(80, 81), match=' '>\n",
            "<re.Match object; span=(85, 86), match='\\n'>\n",
            "<re.Match object; span=(86, 87), match='\\n'>\n",
            "<re.Match object; span=(100, 101), match=' '>\n",
            "<re.Match object; span=(101, 102), match='('>\n",
            "<re.Match object; span=(106, 107), match=' '>\n",
            "<re.Match object; span=(109, 110), match=' '>\n",
            "<re.Match object; span=(117, 118), match=')'>\n",
            "<re.Match object; span=(118, 119), match='\\n'>\n",
            "<re.Match object; span=(119, 120), match='\\n'>\n",
            "<re.Match object; span=(120, 121), match='.'>\n",
            "<re.Match object; span=(121, 122), match='['>\n",
            "<re.Match object; span=(122, 123), match='{'>\n",
            "<re.Match object; span=(123, 124), match='('>\n",
            "<re.Match object; span=(124, 125), match=')'>\n",
            "<re.Match object; span=(125, 126), match='\\\\'>\n",
            "<re.Match object; span=(126, 127), match='^'>\n",
            "<re.Match object; span=(127, 128), match='$'>\n",
            "<re.Match object; span=(128, 129), match='|'>\n",
            "<re.Match object; span=(129, 130), match='?'>\n",
            "<re.Match object; span=(130, 131), match='*'>\n",
            "<re.Match object; span=(131, 132), match='+'>\n",
            "<re.Match object; span=(132, 133), match='\\n'>\n",
            "<re.Match object; span=(133, 134), match='\\n'>\n",
            "<re.Match object; span=(141, 142), match='.'>\n",
            "<re.Match object; span=(145, 146), match='\\n'>\n",
            "<re.Match object; span=(153, 154), match='@'>\n",
            "<re.Match object; span=(159, 160), match='.'>\n",
            "<re.Match object; span=(163, 164), match='\\n'>\n",
            "<re.Match object; span=(170, 171), match='@'>\n",
            "<re.Match object; span=(178, 179), match='.'>\n",
            "<re.Match object; span=(182, 183), match='\\n'>\n",
            "<re.Match object; span=(190, 191), match='@'>\n",
            "<re.Match object; span=(193, 194), match='-'>\n",
            "<re.Match object; span=(198, 199), match='.'>\n",
            "<re.Match object; span=(202, 203), match='\\n'>\n",
            "<re.Match object; span=(203, 204), match='\\n'>\n",
            "<re.Match object; span=(204, 205), match='\\n'>\n",
            "<re.Match object; span=(208, 209), match='-'>\n",
            "<re.Match object; span=(212, 213), match='-'>\n",
            "<re.Match object; span=(217, 218), match='\\n'>\n",
            "<re.Match object; span=(221, 222), match='.'>\n",
            "<re.Match object; span=(225, 226), match='.'>\n",
            "<re.Match object; span=(230, 231), match='\\n'>\n",
            "<re.Match object; span=(233, 234), match=' '>\n",
            "<re.Match object; span=(238, 239), match='\\n'>\n",
            "<re.Match object; span=(241, 242), match='.'>\n",
            "<re.Match object; span=(242, 243), match=' '>\n",
            "<re.Match object; span=(250, 251), match='\\n'>\n",
            "<re.Match object; span=(253, 254), match=' '>\n",
            "<re.Match object; span=(260, 261), match='\\n'>\n",
            "<re.Match object; span=(263, 264), match=' '>\n",
            "<re.Match object; span=(267, 268), match='\\n'>\n",
            "<re.Match object; span=(271, 272), match='.'>\n",
            "<re.Match object; span=(272, 273), match=' '>\n",
            "<re.Match object; span=(276, 277), match='\\n'>\n",
            "<re.Match object; span=(279, 280), match=' '>\n",
            "<re.Match object; span=(282, 283), match='\\n'>\n"
          ]
        }
      ]
    },
    {
      "cell_type": "code",
      "source": [
        "pattern = r'\\s'\n",
        "pattern = re.compile(pattern)\n",
        "\n",
        "matches = pattern.finditer(string)\n",
        "for match in matches:\n",
        "  print(match)"
      ],
      "metadata": {
        "colab": {
          "base_uri": "https://localhost:8080/"
        },
        "id": "RqcCFlYjFmlK",
        "outputId": "76cfcc67-98db-4fa8-df18-f02e65d9615a"
      },
      "execution_count": 30,
      "outputs": [
        {
          "output_type": "stream",
          "name": "stdout",
          "text": [
            "<re.Match object; span=(26, 27), match='\\n'>\n",
            "<re.Match object; span=(53, 54), match='\\n'>\n",
            "<re.Match object; span=(64, 65), match='\\n'>\n",
            "<re.Match object; span=(77, 78), match='\\n'>\n",
            "<re.Match object; span=(80, 81), match=' '>\n",
            "<re.Match object; span=(85, 86), match='\\n'>\n",
            "<re.Match object; span=(86, 87), match='\\n'>\n",
            "<re.Match object; span=(100, 101), match=' '>\n",
            "<re.Match object; span=(106, 107), match=' '>\n",
            "<re.Match object; span=(109, 110), match=' '>\n",
            "<re.Match object; span=(118, 119), match='\\n'>\n",
            "<re.Match object; span=(119, 120), match='\\n'>\n",
            "<re.Match object; span=(132, 133), match='\\n'>\n",
            "<re.Match object; span=(133, 134), match='\\n'>\n",
            "<re.Match object; span=(145, 146), match='\\n'>\n",
            "<re.Match object; span=(163, 164), match='\\n'>\n",
            "<re.Match object; span=(182, 183), match='\\n'>\n",
            "<re.Match object; span=(202, 203), match='\\n'>\n",
            "<re.Match object; span=(203, 204), match='\\n'>\n",
            "<re.Match object; span=(204, 205), match='\\n'>\n",
            "<re.Match object; span=(217, 218), match='\\n'>\n",
            "<re.Match object; span=(230, 231), match='\\n'>\n",
            "<re.Match object; span=(233, 234), match=' '>\n",
            "<re.Match object; span=(238, 239), match='\\n'>\n",
            "<re.Match object; span=(242, 243), match=' '>\n",
            "<re.Match object; span=(250, 251), match='\\n'>\n",
            "<re.Match object; span=(253, 254), match=' '>\n",
            "<re.Match object; span=(260, 261), match='\\n'>\n",
            "<re.Match object; span=(263, 264), match=' '>\n",
            "<re.Match object; span=(267, 268), match='\\n'>\n",
            "<re.Match object; span=(272, 273), match=' '>\n",
            "<re.Match object; span=(276, 277), match='\\n'>\n",
            "<re.Match object; span=(279, 280), match=' '>\n",
            "<re.Match object; span=(282, 283), match='\\n'>\n"
          ]
        }
      ]
    },
    {
      "cell_type": "code",
      "source": [
        "pattern = r'\\S'\n",
        "pattern = re.compile(pattern)\n",
        "\n",
        "matches = pattern.finditer(string)\n",
        "for match in matches:\n",
        "  print(match)"
      ],
      "metadata": {
        "colab": {
          "base_uri": "https://localhost:8080/"
        },
        "id": "RVH-PXqmF1pA",
        "outputId": "2825d9c8-24e7-4915-da69-d6f6684d7600"
      },
      "execution_count": 32,
      "outputs": [
        {
          "output_type": "stream",
          "name": "stdout",
          "text": [
            "<re.Match object; span=(0, 1), match='a'>\n",
            "<re.Match object; span=(1, 2), match='b'>\n",
            "<re.Match object; span=(2, 3), match='c'>\n",
            "<re.Match object; span=(3, 4), match='d'>\n",
            "<re.Match object; span=(4, 5), match='e'>\n",
            "<re.Match object; span=(5, 6), match='f'>\n",
            "<re.Match object; span=(6, 7), match='g'>\n",
            "<re.Match object; span=(7, 8), match='h'>\n",
            "<re.Match object; span=(8, 9), match='i'>\n",
            "<re.Match object; span=(9, 10), match='j'>\n",
            "<re.Match object; span=(10, 11), match='k'>\n",
            "<re.Match object; span=(11, 12), match='l'>\n",
            "<re.Match object; span=(12, 13), match='m'>\n",
            "<re.Match object; span=(13, 14), match='n'>\n",
            "<re.Match object; span=(14, 15), match='o'>\n",
            "<re.Match object; span=(15, 16), match='p'>\n",
            "<re.Match object; span=(16, 17), match='q'>\n",
            "<re.Match object; span=(17, 18), match='r'>\n",
            "<re.Match object; span=(18, 19), match='s'>\n",
            "<re.Match object; span=(19, 20), match='t'>\n",
            "<re.Match object; span=(20, 21), match='u'>\n",
            "<re.Match object; span=(21, 22), match='v'>\n",
            "<re.Match object; span=(22, 23), match='w'>\n",
            "<re.Match object; span=(23, 24), match='x'>\n",
            "<re.Match object; span=(24, 25), match='y'>\n",
            "<re.Match object; span=(25, 26), match='z'>\n",
            "<re.Match object; span=(27, 28), match='A'>\n",
            "<re.Match object; span=(28, 29), match='B'>\n",
            "<re.Match object; span=(29, 30), match='C'>\n",
            "<re.Match object; span=(30, 31), match='D'>\n",
            "<re.Match object; span=(31, 32), match='E'>\n",
            "<re.Match object; span=(32, 33), match='F'>\n",
            "<re.Match object; span=(33, 34), match='G'>\n",
            "<re.Match object; span=(34, 35), match='H'>\n",
            "<re.Match object; span=(35, 36), match='I'>\n",
            "<re.Match object; span=(36, 37), match='J'>\n",
            "<re.Match object; span=(37, 38), match='K'>\n",
            "<re.Match object; span=(38, 39), match='L'>\n",
            "<re.Match object; span=(39, 40), match='M'>\n",
            "<re.Match object; span=(40, 41), match='N'>\n",
            "<re.Match object; span=(41, 42), match='O'>\n",
            "<re.Match object; span=(42, 43), match='P'>\n",
            "<re.Match object; span=(43, 44), match='Q'>\n",
            "<re.Match object; span=(44, 45), match='R'>\n",
            "<re.Match object; span=(45, 46), match='S'>\n",
            "<re.Match object; span=(46, 47), match='T'>\n",
            "<re.Match object; span=(47, 48), match='U'>\n",
            "<re.Match object; span=(48, 49), match='V'>\n",
            "<re.Match object; span=(49, 50), match='W'>\n",
            "<re.Match object; span=(50, 51), match='X'>\n",
            "<re.Match object; span=(51, 52), match='Y'>\n",
            "<re.Match object; span=(52, 53), match='Z'>\n",
            "<re.Match object; span=(54, 55), match='1'>\n",
            "<re.Match object; span=(55, 56), match='2'>\n",
            "<re.Match object; span=(56, 57), match='3'>\n",
            "<re.Match object; span=(57, 58), match='4'>\n",
            "<re.Match object; span=(58, 59), match='5'>\n",
            "<re.Match object; span=(59, 60), match='6'>\n",
            "<re.Match object; span=(60, 61), match='7'>\n",
            "<re.Match object; span=(61, 62), match='8'>\n",
            "<re.Match object; span=(62, 63), match='9'>\n",
            "<re.Match object; span=(63, 64), match='0'>\n",
            "<re.Match object; span=(65, 66), match='b'>\n",
            "<re.Match object; span=(66, 67), match='o'>\n",
            "<re.Match object; span=(67, 68), match='o'>\n",
            "<re.Match object; span=(68, 69), match='t'>\n",
            "<re.Match object; span=(69, 70), match='c'>\n",
            "<re.Match object; span=(70, 71), match='a'>\n",
            "<re.Match object; span=(71, 72), match='m'>\n",
            "<re.Match object; span=(72, 73), match='p'>\n",
            "<re.Match object; span=(73, 74), match='A'>\n",
            "<re.Match object; span=(74, 75), match='B'>\n",
            "<re.Match object; span=(75, 76), match='C'>\n",
            "<re.Match object; span=(76, 77), match='D'>\n",
            "<re.Match object; span=(78, 79), match='H'>\n",
            "<re.Match object; span=(79, 80), match='a'>\n",
            "<re.Match object; span=(81, 82), match='H'>\n",
            "<re.Match object; span=(82, 83), match='a'>\n",
            "<re.Match object; span=(83, 84), match='h'>\n",
            "<re.Match object; span=(84, 85), match='a'>\n",
            "<re.Match object; span=(87, 88), match='M'>\n",
            "<re.Match object; span=(88, 89), match='e'>\n",
            "<re.Match object; span=(89, 90), match='t'>\n",
            "<re.Match object; span=(90, 91), match='a'>\n",
            "<re.Match object; span=(91, 92), match='C'>\n",
            "<re.Match object; span=(92, 93), match='h'>\n",
            "<re.Match object; span=(93, 94), match='a'>\n",
            "<re.Match object; span=(94, 95), match='r'>\n",
            "<re.Match object; span=(95, 96), match='a'>\n",
            "<re.Match object; span=(96, 97), match='c'>\n",
            "<re.Match object; span=(97, 98), match='t'>\n",
            "<re.Match object; span=(98, 99), match='e'>\n",
            "<re.Match object; span=(99, 100), match='r'>\n",
            "<re.Match object; span=(101, 102), match='('>\n",
            "<re.Match object; span=(102, 103), match='N'>\n",
            "<re.Match object; span=(103, 104), match='e'>\n",
            "<re.Match object; span=(104, 105), match='e'>\n",
            "<re.Match object; span=(105, 106), match='d'>\n",
            "<re.Match object; span=(107, 108), match='t'>\n",
            "<re.Match object; span=(108, 109), match='o'>\n",
            "<re.Match object; span=(110, 111), match='e'>\n",
            "<re.Match object; span=(111, 112), match='s'>\n",
            "<re.Match object; span=(112, 113), match='c'>\n",
            "<re.Match object; span=(113, 114), match='a'>\n",
            "<re.Match object; span=(114, 115), match='p'>\n",
            "<re.Match object; span=(115, 116), match='e'>\n",
            "<re.Match object; span=(116, 117), match='d'>\n",
            "<re.Match object; span=(117, 118), match=')'>\n",
            "<re.Match object; span=(120, 121), match='.'>\n",
            "<re.Match object; span=(121, 122), match='['>\n",
            "<re.Match object; span=(122, 123), match='{'>\n",
            "<re.Match object; span=(123, 124), match='('>\n",
            "<re.Match object; span=(124, 125), match=')'>\n",
            "<re.Match object; span=(125, 126), match='\\\\'>\n",
            "<re.Match object; span=(126, 127), match='^'>\n",
            "<re.Match object; span=(127, 128), match='$'>\n",
            "<re.Match object; span=(128, 129), match='|'>\n",
            "<re.Match object; span=(129, 130), match='?'>\n",
            "<re.Match object; span=(130, 131), match='*'>\n",
            "<re.Match object; span=(131, 132), match='+'>\n",
            "<re.Match object; span=(134, 135), match='c'>\n",
            "<re.Match object; span=(135, 136), match='o'>\n",
            "<re.Match object; span=(136, 137), match='r'>\n",
            "<re.Match object; span=(137, 138), match='e'>\n",
            "<re.Match object; span=(138, 139), match='y'>\n",
            "<re.Match object; span=(139, 140), match='m'>\n",
            "<re.Match object; span=(140, 141), match='s'>\n",
            "<re.Match object; span=(141, 142), match='.'>\n",
            "<re.Match object; span=(142, 143), match='c'>\n",
            "<re.Match object; span=(143, 144), match='o'>\n",
            "<re.Match object; span=(144, 145), match='m'>\n",
            "<re.Match object; span=(146, 147), match='M'>\n",
            "<re.Match object; span=(147, 148), match='a'>\n",
            "<re.Match object; span=(148, 149), match='r'>\n",
            "<re.Match object; span=(149, 150), match='k'>\n",
            "<re.Match object; span=(150, 151), match='s'>\n",
            "<re.Match object; span=(151, 152), match='4'>\n",
            "<re.Match object; span=(152, 153), match='8'>\n",
            "<re.Match object; span=(153, 154), match='@'>\n",
            "<re.Match object; span=(154, 155), match='g'>\n",
            "<re.Match object; span=(155, 156), match='m'>\n",
            "<re.Match object; span=(156, 157), match='a'>\n",
            "<re.Match object; span=(157, 158), match='i'>\n",
            "<re.Match object; span=(158, 159), match='l'>\n",
            "<re.Match object; span=(159, 160), match='.'>\n",
            "<re.Match object; span=(160, 161), match='c'>\n",
            "<re.Match object; span=(161, 162), match='o'>\n",
            "<re.Match object; span=(162, 163), match='m'>\n",
            "<re.Match object; span=(164, 165), match='B'>\n",
            "<re.Match object; span=(165, 166), match='u'>\n",
            "<re.Match object; span=(166, 167), match='f'>\n",
            "<re.Match object; span=(167, 168), match='f'>\n",
            "<re.Match object; span=(168, 169), match='4'>\n",
            "<re.Match object; span=(169, 170), match='7'>\n",
            "<re.Match object; span=(170, 171), match='@'>\n",
            "<re.Match object; span=(171, 172), match='h'>\n",
            "<re.Match object; span=(172, 173), match='o'>\n",
            "<re.Match object; span=(173, 174), match='t'>\n",
            "<re.Match object; span=(174, 175), match='m'>\n",
            "<re.Match object; span=(175, 176), match='a'>\n",
            "<re.Match object; span=(176, 177), match='i'>\n",
            "<re.Match object; span=(177, 178), match='l'>\n",
            "<re.Match object; span=(178, 179), match='.'>\n",
            "<re.Match object; span=(179, 180), match='c'>\n",
            "<re.Match object; span=(180, 181), match='o'>\n",
            "<re.Match object; span=(181, 182), match='m'>\n",
            "<re.Match object; span=(183, 184), match='L'>\n",
            "<re.Match object; span=(184, 185), match='i'>\n",
            "<re.Match object; span=(185, 186), match='n'>\n",
            "<re.Match object; span=(186, 187), match='u'>\n",
            "<re.Match object; span=(187, 188), match='x'>\n",
            "<re.Match object; span=(188, 189), match='0'>\n",
            "<re.Match object; span=(189, 190), match='0'>\n",
            "<re.Match object; span=(190, 191), match='@'>\n",
            "<re.Match object; span=(191, 192), match='m'>\n",
            "<re.Match object; span=(192, 193), match='y'>\n",
            "<re.Match object; span=(193, 194), match='-'>\n",
            "<re.Match object; span=(194, 195), match='w'>\n",
            "<re.Match object; span=(195, 196), match='o'>\n",
            "<re.Match object; span=(196, 197), match='r'>\n",
            "<re.Match object; span=(197, 198), match='k'>\n",
            "<re.Match object; span=(198, 199), match='.'>\n",
            "<re.Match object; span=(199, 200), match='n'>\n",
            "<re.Match object; span=(200, 201), match='e'>\n",
            "<re.Match object; span=(201, 202), match='t'>\n",
            "<re.Match object; span=(205, 206), match='3'>\n",
            "<re.Match object; span=(206, 207), match='2'>\n",
            "<re.Match object; span=(207, 208), match='1'>\n",
            "<re.Match object; span=(208, 209), match='-'>\n",
            "<re.Match object; span=(209, 210), match='5'>\n",
            "<re.Match object; span=(210, 211), match='5'>\n",
            "<re.Match object; span=(211, 212), match='5'>\n",
            "<re.Match object; span=(212, 213), match='-'>\n",
            "<re.Match object; span=(213, 214), match='4'>\n",
            "<re.Match object; span=(214, 215), match='3'>\n",
            "<re.Match object; span=(215, 216), match='2'>\n",
            "<re.Match object; span=(216, 217), match='1'>\n",
            "<re.Match object; span=(218, 219), match='1'>\n",
            "<re.Match object; span=(219, 220), match='2'>\n",
            "<re.Match object; span=(220, 221), match='3'>\n",
            "<re.Match object; span=(221, 222), match='.'>\n",
            "<re.Match object; span=(222, 223), match='5'>\n",
            "<re.Match object; span=(223, 224), match='5'>\n",
            "<re.Match object; span=(224, 225), match='5'>\n",
            "<re.Match object; span=(225, 226), match='.'>\n",
            "<re.Match object; span=(226, 227), match='1'>\n",
            "<re.Match object; span=(227, 228), match='2'>\n",
            "<re.Match object; span=(228, 229), match='3'>\n",
            "<re.Match object; span=(229, 230), match='4'>\n",
            "<re.Match object; span=(231, 232), match='M'>\n",
            "<re.Match object; span=(232, 233), match='r'>\n",
            "<re.Match object; span=(234, 235), match='I'>\n",
            "<re.Match object; span=(235, 236), match='r'>\n",
            "<re.Match object; span=(236, 237), match='o'>\n",
            "<re.Match object; span=(237, 238), match='n'>\n",
            "<re.Match object; span=(239, 240), match='M'>\n",
            "<re.Match object; span=(240, 241), match='r'>\n",
            "<re.Match object; span=(241, 242), match='.'>\n",
            "<re.Match object; span=(243, 244), match='S'>\n",
            "<re.Match object; span=(244, 245), match='c'>\n",
            "<re.Match object; span=(245, 246), match='h'>\n",
            "<re.Match object; span=(246, 247), match='a'>\n",
            "<re.Match object; span=(247, 248), match='f'>\n",
            "<re.Match object; span=(248, 249), match='a'>\n",
            "<re.Match object; span=(249, 250), match='r'>\n",
            "<re.Match object; span=(251, 252), match='M'>\n",
            "<re.Match object; span=(252, 253), match='r'>\n",
            "<re.Match object; span=(254, 255), match='B'>\n",
            "<re.Match object; span=(255, 256), match='h'>\n",
            "<re.Match object; span=(256, 257), match='o'>\n",
            "<re.Match object; span=(257, 258), match='o'>\n",
            "<re.Match object; span=(258, 259), match='k'>\n",
            "<re.Match object; span=(259, 260), match='y'>\n",
            "<re.Match object; span=(261, 262), match='D'>\n",
            "<re.Match object; span=(262, 263), match='r'>\n",
            "<re.Match object; span=(264, 265), match='A'>\n",
            "<re.Match object; span=(265, 266), match='B'>\n",
            "<re.Match object; span=(266, 267), match='C'>\n",
            "<re.Match object; span=(268, 269), match='M'>\n",
            "<re.Match object; span=(269, 270), match='r'>\n",
            "<re.Match object; span=(270, 271), match='s'>\n",
            "<re.Match object; span=(271, 272), match='.'>\n",
            "<re.Match object; span=(273, 274), match='X'>\n",
            "<re.Match object; span=(274, 275), match='y'>\n",
            "<re.Match object; span=(275, 276), match='z'>\n",
            "<re.Match object; span=(277, 278), match='M'>\n",
            "<re.Match object; span=(278, 279), match='r'>\n",
            "<re.Match object; span=(280, 281), match='A'>\n",
            "<re.Match object; span=(281, 282), match='b'>\n"
          ]
        }
      ]
    },
    {
      "cell_type": "code",
      "source": [
        "pattern = r'ABCD\\b'  # return object at the start of the string and end of the string\n",
        "pattern = re.compile(pattern)\n",
        "\n",
        "matches = pattern.finditer(string)\n",
        "for match in matches:\n",
        "  print(match)"
      ],
      "metadata": {
        "colab": {
          "base_uri": "https://localhost:8080/"
        },
        "id": "ArTiyMkvGcU3",
        "outputId": "db4eb77f-a827-4bb7-a709-d3bcea17a435"
      },
      "execution_count": 33,
      "outputs": [
        {
          "output_type": "stream",
          "name": "stdout",
          "text": [
            "<re.Match object; span=(73, 77), match='ABCD'>\n"
          ]
        }
      ]
    },
    {
      "cell_type": "code",
      "source": [
        "pattern = r'AB\\B'\n",
        "pattern = re.compile(pattern)\n",
        "\n",
        "matches = pattern.findall(string)\n",
        "# for match in matches:\n",
        "# print(match)\n",
        "\n",
        "print(matches)"
      ],
      "metadata": {
        "colab": {
          "base_uri": "https://localhost:8080/"
        },
        "id": "zrp4NdtrG5ID",
        "outputId": "10ac046d-0900-4cac-da02-feb58b6f231c"
      },
      "execution_count": 34,
      "outputs": [
        {
          "output_type": "stream",
          "name": "stdout",
          "text": [
            "['AB', 'AB', 'AB']\n"
          ]
        }
      ]
    },
    {
      "cell_type": "code",
      "source": [
        "# identify problem\n",
        "pattern = r'^Iron'\n",
        "pattern = re.compile(pattern)\n",
        "\n",
        "matches = pattern.finditer(string)\n",
        "for match in matches:\n",
        "  print(match)"
      ],
      "metadata": {
        "id": "KMRD8GS-HGrR"
      },
      "execution_count": 36,
      "outputs": []
    },
    {
      "cell_type": "markdown",
      "source": [
        "# *Findall()  method*\n",
        "\n",
        "The findall() function returns a list containing all matches."
      ],
      "metadata": {
        "id": "baRBikvUHgW6"
      }
    },
    {
      "cell_type": "code",
      "source": [
        "data = re.findall(\"ABC\", string)\n",
        "data"
      ],
      "metadata": {
        "colab": {
          "base_uri": "https://localhost:8080/"
        },
        "id": "_O_K1hmPHb1T",
        "outputId": "a9521864-7372-4c86-a134-703a26b81420"
      },
      "execution_count": 37,
      "outputs": [
        {
          "output_type": "execute_result",
          "data": {
            "text/plain": [
              "['ABC', 'ABC', 'ABC']"
            ]
          },
          "metadata": {},
          "execution_count": 37
        }
      ]
    },
    {
      "cell_type": "code",
      "source": [
        "data = re.findall(\"\\d\\d\\d-\\d\\d\\d-\\d\\d\\d\", string)\n",
        "data"
      ],
      "metadata": {
        "colab": {
          "base_uri": "https://localhost:8080/"
        },
        "id": "U4_Iv_HFHuwO",
        "outputId": "62d3fca0-c68b-4dc0-d323-aeca99588bd0"
      },
      "execution_count": 38,
      "outputs": [
        {
          "output_type": "execute_result",
          "data": {
            "text/plain": [
              "['321-555-432']"
            ]
          },
          "metadata": {},
          "execution_count": 38
        }
      ]
    },
    {
      "cell_type": "code",
      "source": [
        "data = re.findall(\"\\d{3}-\\d{3}-\\d{3}\" , string)\n",
        "data"
      ],
      "metadata": {
        "colab": {
          "base_uri": "https://localhost:8080/"
        },
        "id": "UvWQ6QHEH3Fo",
        "outputId": "96181895-5a97-4474-faf2-b8c5c8a7b109"
      },
      "execution_count": 40,
      "outputs": [
        {
          "output_type": "execute_result",
          "data": {
            "text/plain": [
              "['321-555-432']"
            ]
          },
          "metadata": {},
          "execution_count": 40
        }
      ]
    },
    {
      "cell_type": "code",
      "source": [
        "# Marks48@gmail.com\n",
        "# Buff47@hotmail.com\n",
        "# Linux00@my-work.net\n",
        "#find out the problem?\n",
        "data = re.findall(r'[a-zA-Z]+\\d{1,3}@[a-zA-Z]+\\.[a-z-A-Z]+',string)\n",
        "data"
      ],
      "metadata": {
        "colab": {
          "base_uri": "https://localhost:8080/"
        },
        "id": "wFdUmpQsIBGl",
        "outputId": "b07db0ea-2a39-40cc-821f-99355598c368"
      },
      "execution_count": 41,
      "outputs": [
        {
          "output_type": "execute_result",
          "data": {
            "text/plain": [
              "['Marks48@gmail.com', 'Buff47@hotmail.com']"
            ]
          },
          "metadata": {},
          "execution_count": 41
        }
      ]
    },
    {
      "cell_type": "markdown",
      "source": [
        "# **Search() function**\n",
        "\n",
        "The search() function searches the string for a match, and returns a Match object if there is a match."
      ],
      "metadata": {
        "id": "4tzUpnxqISiz"
      }
    },
    {
      "cell_type": "code",
      "source": [
        "data = re.search(r'[a-zA-Z]+\\d{1,3}@[a-zA-Z]+\\.[a-z-A-Z]+',string)\n",
        "data"
      ],
      "metadata": {
        "colab": {
          "base_uri": "https://localhost:8080/"
        },
        "id": "t197EwECIPDZ",
        "outputId": "067fb98b-6aab-494d-8268-945e7d9c5490"
      },
      "execution_count": 42,
      "outputs": [
        {
          "output_type": "execute_result",
          "data": {
            "text/plain": [
              "<re.Match object; span=(146, 163), match='Marks48@gmail.com'>"
            ]
          },
          "metadata": {},
          "execution_count": 42
        }
      ]
    },
    {
      "cell_type": "markdown",
      "source": [
        "# **Sub() Function**\n",
        "\n",
        "The sub() function replaces the matches with the text of your choice."
      ],
      "metadata": {
        "id": "tWUHEO54Im6I"
      }
    },
    {
      "cell_type": "code",
      "source": [
        "data = re.sub(r'\\d{1-4}[\\.-]\\d{1-4}[\\.-]\\d{1-4}',\"PhoneNumber\",string ,count=2)\n",
        "data"
      ],
      "metadata": {
        "colab": {
          "base_uri": "https://localhost:8080/",
          "height": 103
        },
        "id": "P62lit_OIlEJ",
        "outputId": "806c394c-4909-42c6-db63-2afb564e0e7f"
      },
      "execution_count": 43,
      "outputs": [
        {
          "output_type": "execute_result",
          "data": {
            "application/vnd.google.colaboratory.intrinsic+json": {
              "type": "string"
            },
            "text/plain": [
              "'abcdefghijklmnopqrstuvwxyz\\nABCDEFGHIJKLMNOPQRSTUVWXYZ\\n1234567890\\nbootcampABCD\\nHa Haha\\n\\nMetaCharacter (Need to escaped)\\n\\n.[{()\\\\^$|?*+\\n\\ncoreyms.com\\nMarks48@gmail.com\\nBuff47@hotmail.com\\nLinux00@my-work.net\\n\\n\\n321-555-4321\\n123.555.1234\\nMr Iron\\nMr. Schafar\\nMr Bhooky\\nDr ABC\\nMrs. Xyz\\nMr Ab\\n'"
            ]
          },
          "metadata": {},
          "execution_count": 43
        }
      ]
    },
    {
      "cell_type": "code",
      "source": [
        "re.sub?"
      ],
      "metadata": {
        "id": "id6lneirIxCo"
      },
      "execution_count": 45,
      "outputs": []
    },
    {
      "cell_type": "code",
      "source": [
        "# count\n",
        "data = \"The rain in Spain\"\n",
        "x = re.sub(\"\\s\", \"9\", txt)\n",
        "print(x)"
      ],
      "metadata": {
        "colab": {
          "base_uri": "https://localhost:8080/",
          "height": 214
        },
        "id": "RVSZ7He8Iz3u",
        "outputId": "dd2a3d33-9ecc-4b83-fa50-302382626bc1"
      },
      "execution_count": 48,
      "outputs": [
        {
          "output_type": "error",
          "ename": "NameError",
          "evalue": "ignored",
          "traceback": [
            "\u001b[0;31m---------------------------------------------------------------------------\u001b[0m",
            "\u001b[0;31mNameError\u001b[0m                                 Traceback (most recent call last)",
            "\u001b[0;32m<ipython-input-48-605f3c5ba11f>\u001b[0m in \u001b[0;36m<module>\u001b[0;34m()\u001b[0m\n\u001b[1;32m      1\u001b[0m \u001b[0;31m# count\u001b[0m\u001b[0;34m\u001b[0m\u001b[0;34m\u001b[0m\u001b[0;34m\u001b[0m\u001b[0m\n\u001b[1;32m      2\u001b[0m \u001b[0mdata\u001b[0m \u001b[0;34m=\u001b[0m \u001b[0;34m\"The rain in Spain\"\u001b[0m\u001b[0;34m\u001b[0m\u001b[0;34m\u001b[0m\u001b[0m\n\u001b[0;32m----> 3\u001b[0;31m \u001b[0mx\u001b[0m \u001b[0;34m=\u001b[0m \u001b[0mre\u001b[0m\u001b[0;34m.\u001b[0m\u001b[0msub\u001b[0m\u001b[0;34m(\u001b[0m\u001b[0;34m\"\\s\"\u001b[0m\u001b[0;34m,\u001b[0m \u001b[0;34m\"9\"\u001b[0m\u001b[0;34m,\u001b[0m \u001b[0mtxt\u001b[0m\u001b[0;34m)\u001b[0m\u001b[0;34m\u001b[0m\u001b[0;34m\u001b[0m\u001b[0m\n\u001b[0m\u001b[1;32m      4\u001b[0m \u001b[0mprint\u001b[0m\u001b[0;34m(\u001b[0m\u001b[0mx\u001b[0m\u001b[0;34m)\u001b[0m\u001b[0;34m\u001b[0m\u001b[0;34m\u001b[0m\u001b[0m\n",
            "\u001b[0;31mNameError\u001b[0m: name 'txt' is not defined"
          ]
        }
      ]
    },
    {
      "cell_type": "code",
      "source": [
        "# Resources :\n",
        "#         for python\n",
        "#            https://docs.python.org/3/library/re.html\n",
        "#         for C++ User's:\n",
        "#           https://docs.microsoft.com/en-us/cpp/standard-library/regular-expressions-cpp?view=msvc-160"
      ],
      "metadata": {
        "id": "guv_5fLPJMbr"
      },
      "execution_count": 49,
      "outputs": []
    },
    {
      "cell_type": "code",
      "source": [
        "# # big picture RE into DFA\n",
        "#     1 : Define the language for example:\n",
        "#         The language contain in which start with a and b but the number b is one. when ever B occur  then a will not occour.\n",
        "#             l = {a^nb}\n",
        "#             Regular expression a*b\n",
        "#     2 : \n",
        "#         There are two types of inputs :\n",
        "#                 Accepted\n",
        "#                 Not Accepted"
      ],
      "metadata": {
        "id": "8sQNo3sOJZ56"
      },
      "execution_count": 50,
      "outputs": []
    },
    {
      "cell_type": "code",
      "source": [
        ""
      ],
      "metadata": {
        "id": "yYK9wkDQJaTL"
      },
      "execution_count": null,
      "outputs": []
    }
  ]
}